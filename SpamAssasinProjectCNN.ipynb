{
 "cells": [
  {
   "cell_type": "code",
   "execution_count": 1,
   "id": "96a325b4-5a2a-4c38-b96f-d0fb85ae4800",
   "metadata": {
    "scrolled": true
   },
   "outputs": [
    {
     "name": "stdout",
     "output_type": "stream",
     "text": [
      "(5640, 2)\n"
     ]
    }
   ],
   "source": [
    "import pandas as pd\n",
    "from keras.models import Sequential\n",
    "from keras.layers import Embedding, Bidirectional, LSTM, Dense, Dropout\n",
    "from sklearn.feature_extraction.text import TfidfVectorizer\n",
    "from sklearn.model_selection import train_test_split\n",
    "\n",
    "# Replace 'dataset.csv' with the path to your CSV file\n",
    "file_path = 'spam_assasin_email_text.csv'\n",
    "\n",
    "# Use pandas to read the CSV file into a DataFrame\n",
    "df = pd.read_csv(file_path)\n",
    "\n",
    "shape = df.shape\n",
    "print(shape)\n",
    "\n",
    "# directly assign the value of text instead of messing around with the df.\n",
    "x = df['text']\n",
    "y = df['label']\n",
    "\n",
    "# x = df.rename(columns={'label': 'message'}, inplace=True)"
   ]
  },
  {
   "cell_type": "code",
   "execution_count": 18,
   "id": "075ff7f6-419c-46ae-bbe2-9572c696bc82",
   "metadata": {},
   "outputs": [
    {
     "name": "stdout",
     "output_type": "stream",
     "text": [
      "Epoch 1/5\n",
      "\u001b[1m141/141\u001b[0m \u001b[32m━━━━━━━━━━━━━━━━━━━━\u001b[0m\u001b[37m\u001b[0m \u001b[1m3s\u001b[0m 16ms/step - accuracy: 0.7738 - loss: 0.4374 - val_accuracy: 0.9770 - val_loss: 0.0856\n",
      "Epoch 2/5\n",
      "\u001b[1m141/141\u001b[0m \u001b[32m━━━━━━━━━━━━━━━━━━━━\u001b[0m\u001b[37m\u001b[0m \u001b[1m2s\u001b[0m 16ms/step - accuracy: 0.9899 - loss: 0.0420 - val_accuracy: 0.9752 - val_loss: 0.0969\n",
      "Epoch 3/5\n",
      "\u001b[1m141/141\u001b[0m \u001b[32m━━━━━━━━━━━━━━━━━━━━\u001b[0m\u001b[37m\u001b[0m \u001b[1m2s\u001b[0m 17ms/step - accuracy: 0.9973 - loss: 0.0167 - val_accuracy: 0.9734 - val_loss: 0.1372\n",
      "Epoch 4/5\n",
      "\u001b[1m141/141\u001b[0m \u001b[32m━━━━━━━━━━━━━━━━━━━━\u001b[0m\u001b[37m\u001b[0m \u001b[1m2s\u001b[0m 16ms/step - accuracy: 0.9986 - loss: 0.0113 - val_accuracy: 0.9663 - val_loss: 0.1339\n",
      "Epoch 5/5\n",
      "\u001b[1m141/141\u001b[0m \u001b[32m━━━━━━━━━━━━━━━━━━━━\u001b[0m\u001b[37m\u001b[0m \u001b[1m2s\u001b[0m 15ms/step - accuracy: 0.9983 - loss: 0.0081 - val_accuracy: 0.9761 - val_loss: 0.1605\n",
      "\u001b[1m36/36\u001b[0m \u001b[32m━━━━━━━━━━━━━━━━━━━━\u001b[0m\u001b[37m\u001b[0m \u001b[1m0s\u001b[0m 4ms/step - accuracy: 0.9710 - loss: 0.2517\n",
      "Test Accuracy: 0.9760638475418091\n"
     ]
    }
   ],
   "source": [
    "import numpy as np\n",
    "import pandas as pd\n",
    "from sklearn.model_selection import train_test_split\n",
    "from sklearn.preprocessing import LabelEncoder\n",
    "from keras.layers import TextVectorization, Embedding, Conv1D, MaxPooling1D, Flatten, Dense, Dropout\n",
    "from keras import Sequential\n",
    "\n",
    "# Load your dataset\n",
    "# Assuming you have a DataFrame named 'data' with columns 'label' and 'text'\n",
    "# Replace this with your actual data loading code\n",
    "data = pd.read_csv('spam_assasin_email_text.csv')\n",
    "\n",
    "# Preprocessing\n",
    "# Convert labels to numerical values\n",
    "label_encoder = LabelEncoder()\n",
    "data['label'] = label_encoder.fit_transform(data['label'])\n",
    "\n",
    "# Splitting the data into train and test sets\n",
    "X_train, X_test, y_train, y_test = train_test_split(data['text'], data['label'], test_size=0.2, random_state=42)\n",
    "\n",
    "# Tokenization and embedding using TensorFlow layers\n",
    "max_tokens = 10000  # Maximum number of tokens\n",
    "embedding_dim = 128  # Dimension of word embeddings\n",
    "max_len = 100  # Maximum length of sequences\n",
    "\n",
    "# Create TextVectorization layer for tokenization\n",
    "text_vectorizer = TextVectorization(max_tokens=max_tokens, output_mode='int', output_sequence_length=max_len)\n",
    "\n",
    "# Fit the TextVectorization layer on your text data\n",
    "text_vectorizer.adapt(X_train)\n",
    "\n",
    "# Tokenize and pad sequences for training and testing data\n",
    "X_train_seq = text_vectorizer(X_train)\n",
    "X_test_seq = text_vectorizer(X_test)\n",
    "\n",
    "# Building the CNN model\n",
    "model = Sequential([\n",
    "    Embedding(input_dim=max_tokens, output_dim=embedding_dim),\n",
    "    Conv1D(filters=128, kernel_size=5, activation='relu'),\n",
    "    MaxPooling1D(),\n",
    "    Flatten(),\n",
    "    Dense(64, activation='relu'),\n",
    "    Dropout(0.5),\n",
    "    Dense(1, activation='sigmoid')\n",
    "])\n",
    "\n",
    "# Compiling the model\n",
    "model.compile(optimizer='adam',\n",
    "              loss='binary_crossentropy',\n",
    "              metrics=['accuracy'])\n",
    "\n",
    "# Training the model\n",
    "epochs = 5  # Number of training epochs\n",
    "batch_size = 32\n",
    "\n",
    "model.fit(X_train_seq, y_train,\n",
    "          epochs=epochs,\n",
    "          batch_size=batch_size,\n",
    "          validation_data=(X_test_seq, y_test))\n",
    "\n",
    "# Evaluating the model\n",
    "loss, accuracy = model.evaluate(X_test_seq, y_test)\n",
    "print(\"Test Accuracy:\", accuracy)"
   ]
  },
  {
   "cell_type": "code",
   "execution_count": 19,
   "id": "0f061549-3a31-43c1-8f9a-91770ca6ce3c",
   "metadata": {},
   "outputs": [
    {
     "name": "stdout",
     "output_type": "stream",
     "text": [
      "\u001b[1m36/36\u001b[0m \u001b[32m━━━━━━━━━━━━━━━━━━━━\u001b[0m\u001b[37m\u001b[0m \u001b[1m0s\u001b[0m 7ms/step\n",
      "              precision    recall  f1-score   support\n",
      "\n",
      "           0       0.98      0.99      0.98       820\n",
      "           1       0.97      0.94      0.96       308\n",
      "\n",
      "    accuracy                           0.98      1128\n",
      "   macro avg       0.97      0.97      0.97      1128\n",
      "weighted avg       0.98      0.98      0.98      1128\n",
      "\n"
     ]
    }
   ],
   "source": [
    "from sklearn.metrics import classification_report\n",
    "\n",
    "# Predict probabilities for the test set\n",
    "y_pred_proba = model.predict(X_test_seq)\n",
    "\n",
    "# Convert probabilities to binary predictions\n",
    "y_pred = (y_pred_proba > 0.5).astype(int)\n",
    "\n",
    "# Print classification report\n",
    "print(classification_report(y_test, y_pred))\n"
   ]
  },
  {
   "cell_type": "code",
   "execution_count": 20,
   "id": "483676cf-1b34-4015-a5c1-3f5261409c00",
   "metadata": {},
   "outputs": [
    {
     "name": "stdout",
     "output_type": "stream",
     "text": [
      "F1-score for the positive class (spam): 0.9556650246305419\n"
     ]
    }
   ],
   "source": [
    "from sklearn.metrics import f1_score\n",
    "\n",
    "# Compute F1-score for the positive class (spam)\n",
    "f1_score_spam = f1_score(y_test, y_pred)\n",
    "\n",
    "print(\"F1-score for the positive class (spam):\", f1_score_spam)\n"
   ]
  },
  {
   "cell_type": "code",
   "execution_count": 22,
   "id": "92927136-3ef1-42a5-b604-32b4223bed72",
   "metadata": {},
   "outputs": [
    {
     "data": {
      "image/png": "[encoded data removed]",
      "text/plain": [
       "<Figure size 800x600 with 2 Axes>"
      ]
     },
     "metadata": {},
     "output_type": "display_data"
    }
   ],
   "source": [
    "from sklearn.metrics import confusion_matrix\n",
    "import matplotlib.pyplot as plt\n",
    "import numpy as np\n",
    "\n",
    "# Compute confusion matrix\n",
    "conf_matrix = confusion_matrix(y_test, y_pred)\n",
    "\n",
    "# Plot confusion matrix\n",
    "plt.figure(figsize=(8, 6))\n",
    "plt.imshow(conf_matrix, cmap='Blues', interpolation='nearest')\n",
    "plt.title('Confusion Matrix')\n",
    "plt.colorbar()\n",
    "\n",
    "classes = ['ham', 'spam']\n",
    "tick_marks = np.arange(len(classes))\n",
    "plt.xticks(tick_marks, classes, rotation=45)\n",
    "plt.yticks(tick_marks, classes)\n",
    "\n",
    "thresh = conf_matrix.max() / 2.\n",
    "for i, j in ((i, j) for i in range(len(conf_matrix)) for j in range(len(conf_matrix[0]))):\n",
    "    plt.text(j, i, format(conf_matrix[i, j], 'd'),\n",
    "             horizontalalignment=\"center\",\n",
    "             color=\"white\" if conf_matrix[i, j] > thresh else \"black\")\n",
    "\n",
    "plt.tight_layout()\n",
    "plt.ylabel('True label')\n",
    "plt.xlabel('Predicted label')\n",
    "plt.show()\n"
   ]
  },
  {
   "cell_type": "code",
   "execution_count": null,
   "id": "78bb45c9-b3fd-4b04-8f7b-7dda723e90d2",
   "metadata": {},
   "outputs": [],
   "source": []
  }
 ],
 "metadata": {
  "kernelspec": {
   "display_name": "Python 3 (ipykernel)",
   "language": "python",
   "name": "python3"
  },
  "language_info": {
   "codemirror_mode": {
    "name": "ipython",
    "version": 3
   },
   "file_extension": ".py",
   "mimetype": "text/x-python",
   "name": "python",
   "nbconvert_exporter": "python",
   "pygments_lexer": "ipython3",
   "version": "3.12.2"
  }
 },
 "nbformat": 4,
 "nbformat_minor": 5
}
